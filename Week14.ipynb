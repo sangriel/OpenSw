{
 "cells": [
  {
   "cell_type": "code",
   "execution_count": 21,
   "id": "2c1426ef",
   "metadata": {},
   "outputs": [
    {
     "name": "stdout",
     "output_type": "stream",
     "text": [
      "        unit_price  number\n",
      "store1         100      25\n",
      "store2         280     120\n",
      "store3         900      30\n",
      "============================\n",
      "        unit_price  number  total_price\n",
      "store1         100      25         2500\n",
      "store2         280     120        33600\n",
      "store3         900      30        27000\n",
      "============================\n",
      "        unit_price  number  total_price\n",
      "store2         280     120        33600\n"
     ]
    }
   ],
   "source": [
    "#다음과 같은 절차에 따라 초가격이 가장 비싼 기계를 출력하는 프로그램을 작성하시오.\n",
    "#- 단가와 개수로 이루어진 데이터 프레임 생성 -> 판다를 이용해서 생성 \n",
    "#- 단가와 개수를 곱한 총 가격이 추가된 데이터 프레임 생성\n",
    "#- 총 가격이 가장 비싼 가계 출력 \n",
    "from pandas import Series, DataFrame\n",
    "\n",
    "raw_data = [[100, 25],\n",
    "           [280, 120],\n",
    "           [900,30]]\n",
    "\n",
    "index = [\"store1\",\"store2\",\"store3\"]\n",
    "\n",
    "data = DataFrame(raw_data, columns=['unit_price', 'number'], index=index)\n",
    "print(data)\n",
    "\n",
    "print(\"============================\")\n",
    "data[\"total_price\"] = data[\"unit_price\"] * data[\"number\"]\n",
    "print(data)\n",
    "max_value = data[\"total_price\"].idxmax()\n",
    "\n",
    "print(\"============================\")\n",
    "print(data.loc[[max_value]])\n",
    "\n",
    "\n",
    "\n"
   ]
  },
  {
   "cell_type": "code",
   "execution_count": null,
   "id": "d34a70a9",
   "metadata": {},
   "outputs": [],
   "source": []
  }
 ],
 "metadata": {
  "kernelspec": {
   "display_name": "Python 3",
   "language": "python",
   "name": "python3"
  },
  "language_info": {
   "codemirror_mode": {
    "name": "ipython",
    "version": 3
   },
   "file_extension": ".py",
   "mimetype": "text/x-python",
   "name": "python",
   "nbconvert_exporter": "python",
   "pygments_lexer": "ipython3",
   "version": "3.8.8"
  }
 },
 "nbformat": 4,
 "nbformat_minor": 5
}
