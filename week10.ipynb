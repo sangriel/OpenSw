{
 "cells": [
  {
   "cell_type": "code",
   "execution_count": 1,
   "id": "1beb16ea",
   "metadata": {},
   "outputs": [
    {
     "name": "stdout",
     "output_type": "stream",
     "text": [
      "x=2\n",
      "y=25.00\n",
      "\n"
     ]
    }
   ],
   "source": [
    "x=float(input(\"x=\"))\n",
    "y=3.0*x*x+5.0*x+3.0\n",
    "print(\"y={0:.2f}\\n\".format(y))"
   ]
  },
  {
   "cell_type": "code",
   "execution_count": 4,
   "id": "a131c319",
   "metadata": {},
   "outputs": [
    {
     "name": "stdout",
     "output_type": "stream",
     "text": [
      "r=1\n",
      "반지름이  1.0인 원의 넓이는 3.1이고 둘레는  6.3입니다\n"
     ]
    }
   ],
   "source": [
    "r=float(input(\"r=\"))\n",
    "pi=3.14\n",
    "a=pi*r*r\n",
    "c=2.0*pi*r\n",
    "str=\"반지름이 {0: .1f}인 원의 넓이는 {1:.1f}이고 둘레는 {2: .1f}입니다\".format(r,a,c)\n",
    "print(str)"
   ]
  },
  {
   "cell_type": "code",
   "execution_count": 7,
   "id": "51c5f84b",
   "metadata": {},
   "outputs": [
    {
     "name": "stdout",
     "output_type": "stream",
     "text": [
      "국어=80\n",
      "영어=99\n",
      "수학=77\n",
      "평균은 85.3이며, 등급은 B입니다\n"
     ]
    }
   ],
   "source": [
    "kor = float(input(\"국어=\"))\n",
    "eng = float(input(\"영어=\"))\n",
    "math = float(input(\"수학=\"))\n",
    "\n",
    "avg = (kor + eng + math) / 3.0\n",
    "\n",
    "if 90.0 <= avg <= 100.0:\n",
    "    grade = \"A\"\n",
    "elif 80.0 <= avg < 90:\n",
    "    grade = \"B\"\n",
    "elif 70.0 <= avg < 80:\n",
    "    grade = \"C\"\n",
    "elif 60.0 <= avg < 70:\n",
    "    grade = \"D\"\n",
    "elif 0.0 <= avg < 60:\n",
    "    grade = \"F\"\n",
    "else : \n",
    "    grade = \"NA\"\n",
    "\n",
    "print(\"평균은 {0:.1f}이며, 등급은 {1:s}입니다\".format(avg,grade))\n"
   ]
  },
  {
   "cell_type": "code",
   "execution_count": 11,
   "id": "73bad65d",
   "metadata": {},
   "outputs": [
    {
     "name": "stdout",
     "output_type": "stream",
     "text": [
      "Lines=10\n",
      "1000000001\n",
      "0100000010\n",
      "0010000100\n",
      "0001001000\n",
      "0000110000\n",
      "0000110000\n",
      "0001001000\n",
      "0010000100\n",
      "0100000010\n",
      "1000000001\n"
     ]
    }
   ],
   "source": [
    "num = int(input(\"Lines=\"))\n",
    "\n",
    "for i in range(0,num):\n",
    "    str = \"\"\n",
    "    for j in range(0,num):\n",
    "        if (i==j) or ((num-1)-i == j):\n",
    "            str += \"1\"\n",
    "        else:\n",
    "            str += \"0\"\n",
    "    print(str)\n",
    "\n"
   ]
  },
  {
   "cell_type": "code",
   "execution_count": 13,
   "id": "37cae503",
   "metadata": {},
   "outputs": [
    {
     "name": "stdout",
     "output_type": "stream",
     "text": [
      "사람 수?1\n",
      "name=dd\n",
      "number0010\n",
      "검색할 이름은?dd\n",
      "dd의 전화번호는 010\n"
     ]
    }
   ],
   "source": [
    "def search_phone(book,name):\n",
    "    num = book[name]\n",
    "    if num:\n",
    "        return num\n",
    "    else:\n",
    "        return \"none\"\n",
    "\n",
    "n = int(input(\"사람 수?\"))\n",
    "\n",
    "book = dict()\n",
    "\n",
    "for i in range(n):\n",
    "    k = input(\"name=\");\n",
    "    v = input(\"number=\")\n",
    "    book[k] = v\n",
    "    \n",
    "k = input(\"검색할 이름은?\")\n",
    "v = search_phone(book,k)\n",
    "\n",
    "print(\"{0:s}의 전화번호는 {1:s}\".format(k,v))\n"
   ]
  },
  {
   "cell_type": "code",
   "execution_count": 14,
   "id": "d7c24a3a",
   "metadata": {},
   "outputs": [
    {
     "name": "stdout",
     "output_type": "stream",
     "text": [
      "죽는 날까지 하늘을 우러러\n",
      "한 점 부끄럼이 없기를,\n",
      "잎새에 이는 바람에도\n",
      "너는 괴로워했다.\n",
      "별을 노래하는 마음으로\n",
      "모든 죽어가는 것을 사랑해야지\n",
      "그리고 너한테 주어진 길을\n",
      "걸어가야겠다.\n",
      "오늘 밤에도 별이 바람에 스치운다.\n"
     ]
    }
   ],
   "source": [
    "str=\"\"\"   죽는 날까지 하늘을 우러러\n",
    "한 점 부끄럼이 없기를,\n",
    "잎새에 이는 바람에도\n",
    "나는 괴로워했다.\n",
    "별을 노래하는 마음으로\n",
    "모든 죽어가는 것을 사랑해야지\n",
    "그리고 나한테 주어진 길을\n",
    "걸어가야겠다.\n",
    "오늘 밤에도 별이 바람에 스치운다.   \"\"\"\n",
    "\n",
    "str = str.strip()\n",
    "str = str.replace(\"나\",\"너\")\n",
    "print(str)"
   ]
  },
  {
   "cell_type": "code",
   "execution_count": 17,
   "id": "c8766a23",
   "metadata": {},
   "outputs": [
    {
     "name": "stdout",
     "output_type": "stream",
     "text": [
      "numbers=?1 2 3 45 1 31 41 1\n",
      "45\n"
     ]
    }
   ],
   "source": [
    "str = input(\"numbers=?\")\n",
    "strlist = str.split()\n",
    "\n",
    "max = int(strlist[0])\n",
    "\n",
    "for str1 in strlist[1:]:\n",
    "    num = int(str1)\n",
    "    if (num > max):\n",
    "        max = num\n",
    "\n",
    "print(max)"
   ]
  },
  {
   "cell_type": "code",
   "execution_count": 21,
   "id": "e36273d1",
   "metadata": {},
   "outputs": [
    {
     "name": "stdout",
     "output_type": "stream",
     "text": [
      "abc def=> encoded to efg!bcd\n",
      "efg!bcd=> decoded to abc def\n"
     ]
    }
   ],
   "source": [
    "def conv_asc(str,num):\n",
    "    new_str = \"\"\n",
    "    for i in str:\n",
    "        code=ord(i)\n",
    "        new_str += chr(code+num)\n",
    "    return new_str\n",
    "\n",
    "def enc(str,key):\n",
    "    list = str.split()\n",
    "    list = list[::-1]#reverse\n",
    "    new_str = \" \".join(list)\n",
    "    return conv_asc(new_str,key)\n",
    "\n",
    "def dec(str,key):\n",
    "    str=conv_asc(str,key*-1)\n",
    "    list = str.split()\n",
    "    list = list[::-1]\n",
    "    new_str = \" \".join(list)\n",
    "    return new_str\n",
    "\n",
    "str = \"abc def\"\n",
    "enc_str = enc(str,1)\n",
    "print(str + \"=> encoded to \" + enc_str)\n",
    "\n",
    "\n",
    "dec_str = dec(enc_str,1)\n",
    "print(enc_str + \"=> decoded to \" + dec_str)"
   ]
  },
  {
   "cell_type": "code",
   "execution_count": null,
   "id": "25e05502",
   "metadata": {},
   "outputs": [],
   "source": []
  }
 ],
 "metadata": {
  "kernelspec": {
   "display_name": "Python 3",
   "language": "python",
   "name": "python3"
  },
  "language_info": {
   "codemirror_mode": {
    "name": "ipython",
    "version": 3
   },
   "file_extension": ".py",
   "mimetype": "text/x-python",
   "name": "python",
   "nbconvert_exporter": "python",
   "pygments_lexer": "ipython3",
   "version": "3.8.8"
  }
 },
 "nbformat": 4,
 "nbformat_minor": 5
}
