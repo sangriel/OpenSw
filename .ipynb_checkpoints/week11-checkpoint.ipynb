{
 "cells": [
  {
   "cell_type": "code",
   "execution_count": 20,
   "id": "0bbb619e",
   "metadata": {},
   "outputs": [
    {
     "name": "stdout",
     "output_type": "stream",
     "text": [
      "파이썬 파일 읽기 에제입니다.\n",
      "다양한 메소드를 공부해 보세요.\n",
      "실력이 팍팍 늘 거예요~\n",
      "단어 수를 카운트하는 파이썬 파일 읽기 실습 예제입니다.\n",
      "{'파이썬': 2, '파일': 2, '읽기': 2, '에제입니다.': 1, '다양한': 1, '메소드를': 1, '공부해': 1, '보세요.': 1, '실력이': 1, '팍팍': 1, '늘': 1, '거예요~': 1, '단어': 1, '수를': 1, '카운트하는': 1, '실습': 1, '예제입니다.': 1}\n"
     ]
    }
   ],
   "source": [
    "#readme.txt 파일에 있는 각 단어의 개수를 계산하여 출력하는 프로그램 \n",
    "\n",
    "f = open('./Readme.txt', 'rt')\n",
    "\n",
    "dict = {}\n",
    "\n",
    "while True:\n",
    "    c = f.readline()\n",
    "    if c == '':\n",
    "        break\n",
    "    strlist = c.split()\n",
    "    for str in strlist:\n",
    "        if str in dict:\n",
    "            dict[str] += 1\n",
    "        else:\n",
    "            dict[str] = 1\n",
    "    \n",
    "    print(c, end='')\n",
    "\n",
    "f.close()\n",
    "\n",
    "print(dict)"
   ]
  },
  {
   "cell_type": "code",
   "execution_count": 64,
   "id": "1e57f4e9",
   "metadata": {},
   "outputs": [
    {
     "name": "stdout",
     "output_type": "stream",
     "text": [
      "( 0.0,  0.0)\n",
      "( 1.0,  1.0)\n",
      " 0.0,  0.0 에서  2.0, 2.0만큼 이동\n",
      " 1.0,  1.0 에서  2.0, 2.0만큼 이동\n",
      "( 2.0,  2.0)\n",
      "( 3.0,  3.0)\n"
     ]
    }
   ],
   "source": [
    "#2차원 공간에서 점은 나타내는 point 클래스를 작성하고 그것을 상속받아 Box 클래스를 작성하시오\n",
    "class Point:\n",
    "\n",
    "    def __init__(self, x, y):\n",
    "        self.x = x\n",
    "        self.y = y\n",
    "        \n",
    "    def move(self,dx,dy):\n",
    "        print(\"{0: .1f}, {1: .1f} 에서 {2: .1f},{3: .1f}만큼 이동\".format(self.x,self.y,dx,dy))\n",
    "        self.x += dx\n",
    "        self.y += dy\n",
    "        \n",
    "\n",
    "    def show(self):\n",
    "        print(\"({0: .1f}, {1: .1f})\".format(self.x,self.y))\n",
    "\n",
    "\n",
    "class Box(Point):\n",
    "    def __init__(self,p1,p2):\n",
    "        self.p1 = p1\n",
    "        self.p2 = p2\n",
    "        \n",
    "    def move(self,dx,dy):\n",
    "        self.p1.move(dx,dy)\n",
    "        self.p2.move(dx,dy)\n",
    "    \n",
    "    \n",
    "    def show(self):\n",
    "        p1.show()\n",
    "        p2.show()\n",
    "    \n",
    "    \n",
    "\n",
    "p1 = Point(0,0)\n",
    "p2 = Point(1,1)\n",
    "box = Box(p1,p2)\n",
    "\n",
    "box.show()\n",
    "box.move(2,2)\n",
    "box.show()\n",
    "    "
   ]
  },
  {
   "cell_type": "code",
   "execution_count": null,
   "id": "c33fc126",
   "metadata": {},
   "outputs": [],
   "source": []
  }
 ],
 "metadata": {
  "kernelspec": {
   "display_name": "Python 3",
   "language": "python",
   "name": "python3"
  },
  "language_info": {
   "codemirror_mode": {
    "name": "ipython",
    "version": 3
   },
   "file_extension": ".py",
   "mimetype": "text/x-python",
   "name": "python",
   "nbconvert_exporter": "python",
   "pygments_lexer": "ipython3",
   "version": "3.8.8"
  }
 },
 "nbformat": 4,
 "nbformat_minor": 5
}
