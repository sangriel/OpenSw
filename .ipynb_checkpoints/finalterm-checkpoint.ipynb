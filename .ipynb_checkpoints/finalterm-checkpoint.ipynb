{
 "cells": [
  {
   "cell_type": "code",
   "execution_count": 39,
   "id": "91098bd2",
   "metadata": {},
   "outputs": [
    {
     "name": "stdout",
     "output_type": "stream",
     "text": [
      "min : 2021-01-28\n",
      "max : 2021-06-28\n"
     ]
    }
   ],
   "source": [
    "#country_vaccinations.csv\n",
    "import csv\n",
    "\n",
    "\n",
    "#['country', 'iso_code', 'date', 'total_vaccinations', 'people_vaccinated', 'people_fully_vaccinated', 'daily_vaccinations_raw', 'daily_vaccinations', 'total_vaccinations_per_hundred', 'people_vaccinated_per_hundred', 'people_fully_vaccinated_per_hundred', 'daily_vaccinations_per_million', 'vaccines', 'source_name', 'source_website']\n",
    "\n",
    "\n",
    "#7 dailyCount\n",
    "#3 date\n",
    "\n",
    "minDailyCount = 128139\n",
    "maxDailyCount = 0\n",
    "minDailyDate = \"\"\n",
    "maxDailyDate = \"\"\n",
    "f = open(\"country_vaccinations.csv\",\"r\",encoding=\"cp949\")\n",
    "\n",
    "csvFile = csv.reader(f,delimiter=\",\")\n",
    "data = list(csvFile)\n",
    "\n",
    "\n",
    "for (i) in range(1,len(data)):\n",
    "    \n",
    "    if data[i][7] != \"\":\n",
    "        if (float(data[i][7]) < minDailyCount):\n",
    "            minDailyCount = float(data[i][7])\n",
    "            minDailyDate = data[i][2]\n",
    "\n",
    "        if (float(data[i][7]) > maxDailyCount):\n",
    "            maxDailyCount = float(data[i][7])\n",
    "            maxDailyDate = data[i][2]\n",
    "        \n",
    "f.close()\n",
    "\n",
    "print(\"min : \" + minDailyDate)\n",
    "print(\"max : \" + maxDailyDate)\n",
    "\n",
    "\n",
    "\n",
    "\n"
   ]
  },
  {
   "cell_type": "code",
   "execution_count": 61,
   "id": "78f5e2a7",
   "metadata": {},
   "outputs": [
    {
     "name": "stdout",
     "output_type": "stream",
     "text": [
      "{'Johnson&Johnson': 34382, ' Oxford/AstraZeneca': 47659, ' Pfizer/BioNTech': 59919, ' Sinopharm/Beijing': 33014, 'Oxford/AstraZeneca': 23672, ' Sinovac': 19892, ' Sputnik V': 23060, 'Moderna': 13504, 'CanSino': 3073, ' Moderna': 23913, 'Pfizer/BioNTech': 4274, ' Novavax': 4935, ' Sputnik Light': 3116, 'Sinopharm/Beijing': 1624, 'Covaxin': 2618, ' Johnson&Johnson': 1567, ' Sinopharm/Wuhan': 919, ' ZF2001': 1008, 'Abdala': 1493, ' Soberana Plus': 320, ' Soberana02': 1527, 'COVIran Barekat': 415, ' Covaxin': 817, ' FAKHRAVAC': 415, ' Razi Cov Pars': 415, ' SpikoGen': 415, 'QazVac': 423, 'EpiVacCorona': 660, 'Medigen': 374, ' Turkovac': 441, ' QazVac': 190}\n"
     ]
    }
   ],
   "source": [
    "#country_vaccinations.csv\n",
    "import csv\n",
    "\n",
    "\n",
    "#['country', 'iso_code', 'date', 'total_vaccinations', 'people_vaccinated', 'people_fully_vaccinated', 'daily_vaccinations_raw', 'daily_vaccinations', 'total_vaccinations_per_hundred', 'people_vaccinated_per_hundred', 'people_fully_vaccinated_per_hundred', 'daily_vaccinations_per_million', 'vaccines', 'source_name', 'source_website']\n",
    "\n",
    "\n",
    "#0 country\n",
    "#12 vaccines\n",
    "\n",
    "minDailyCount = 128139\n",
    "maxDailyCount = 0\n",
    "minDailyDate = \"\"\n",
    "maxDailyDate = \"\"\n",
    "f = open(\"country_vaccinations.csv\",\"r\",encoding=\"cp949\")\n",
    "\n",
    "csvFile = csv.reader(f,delimiter=\",\")\n",
    "data = list(csvFile)\n",
    "\n",
    "\n",
    "vaccineListNameArr = [\"\"];\n",
    "\n",
    "\n",
    "def checkExist(vaccine):\n",
    "    for i in range(0,len(vaccineListNameArr)):\n",
    "        if vaccineListNameArr[i] == vaccine:\n",
    "            return True\n",
    "    \n",
    "    return False\n",
    "       \n",
    "vaccineList = {}\n",
    "\n",
    "for (i) in range(1,len(data)):\n",
    "    v = data[i][12].split(\",\")\n",
    "    for i in range(0,len(v)):\n",
    "        if checkExist(v[i]):\n",
    "            vaccineList[v[i]] += 1\n",
    "        else:\n",
    "            vaccineListNameArr.insert(0,v[i])\n",
    "            vaccineList[v[i]] = 1\n",
    "            \n",
    "            \n",
    "\n",
    "print(vaccineList)\n",
    "\n",
    "\n",
    "f.close()\n",
    "\n"
   ]
  },
  {
   "cell_type": "code",
   "execution_count": null,
   "id": "e8ad0909",
   "metadata": {},
   "outputs": [],
   "source": []
  }
 ],
 "metadata": {
  "kernelspec": {
   "display_name": "Python 3",
   "language": "python",
   "name": "python3"
  },
  "language_info": {
   "codemirror_mode": {
    "name": "ipython",
    "version": 3
   },
   "file_extension": ".py",
   "mimetype": "text/x-python",
   "name": "python",
   "nbconvert_exporter": "python",
   "pygments_lexer": "ipython3",
   "version": "3.8.8"
  }
 },
 "nbformat": 4,
 "nbformat_minor": 5
}
